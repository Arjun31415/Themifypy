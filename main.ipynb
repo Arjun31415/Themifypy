{
 "cells": [
  {
   "cell_type": "code",
   "execution_count": null,
   "metadata": {},
   "outputs": [],
   "source": [
    "from skimage.color import rgb2lab, deltaE_ciede2000\n",
    "from skimage import io\n",
    "import numpy as np\n",
    "import skimage\n",
    "from math import ceil\n",
    "import threading\n"
   ]
  },
  {
   "cell_type": "markdown",
   "metadata": {},
   "source": [
    "## Define the pallette "
   ]
  },
  {
   "cell_type": "code",
   "execution_count": null,
   "metadata": {},
   "outputs": [],
   "source": [
    "# Nord Aurora theme\n",
    "# pallette_hex=[\n",
    "# # Snow Storm\n",
    "# \"#D8DEE9\",\n",
    "# \"#E5E9F0\",\n",
    "# \"#ECEFF4\",\n",
    "# #polar Night\n",
    "# \"#2E3440\",\n",
    "# \"#3B4252\",\n",
    "# \"#434C5E\",\n",
    "# \"#4C566A\",\n",
    "# # Frost \n",
    "# \"#8FBCBB\",\n",
    "# \"#88C0D0\",\n",
    "# \"#81A1C1\",\n",
    "# \"#5E81AC\",\n",
    "# # Aurora\n",
    "# \"#BF616A\",\n",
    "# \"#D08770\",\n",
    "# \"#EBCB8B\",\n",
    "# \"#A3BE8C\",\n",
    "# \"#B48EAD\",\n",
    "# ]\n",
    "# Amarena theme\n",
    "pallette_hex=[\n",
    "\"#242D35\",\n",
    "\"#FB6396\",\n",
    "\"#94CF95\",\n",
    "\"#F692B2\",\n",
    "\"#6EC1D6\",\n",
    "\"#CD84C8\",\n",
    "\"#7FE4D2\",\n",
    "\"#FFFFFF\",\n",
    "\"#526170\",\n",
    "\"#F92D72\",\n",
    "\"#6CCB6E\",\n",
    "\"#F26190\",\n",
    "\"#4CB9D6\",\n",
    "\"#C269BC\",\n",
    "\"#58D6BF\",\n",
    "\"#F4F5F2\",\n",
    "]\n",
    "pallette_rgb=[]\n",
    "for h in pallette_hex:\n",
    "    temp=h.lstrip('#')\n",
    "    pallette_rgb.append(tuple(int(temp[i:i+2], 16) for i in (0, 2 ,4)))\n",
    "pallette_rgb=np.asarray(pallette_rgb,dtype=np.uint8)\n",
    "pallette=np.array([rgb2lab(pallette_rgb[i]) for i in range(len(pallette_rgb))])\n",
    "print(pallette_rgb)"
   ]
  },
  {
   "cell_type": "markdown",
   "metadata": {},
   "source": [
    "## Some Utility Functions"
   ]
  },
  {
   "cell_type": "code",
   "execution_count": null,
   "metadata": {},
   "outputs": [],
   "source": [
    "def convert_rgb_to_lab(col):\n",
    "    # print(\"Rgb: \",col)\n",
    "    temp=col[:3]\n",
    "    im=np.asarray(temp,dtype=np.uint8)\n",
    "    cov=rgb2lab(im)\n",
    "    # print(\"LAB: \",cov)\n",
    "    return cov\n"
   ]
  },
  {
   "cell_type": "code",
   "execution_count": null,
   "metadata": {},
   "outputs": [],
   "source": [
    "def color_diff(color1,color2):\n",
    "    delta_e=deltaE_ciede2000(color1,color2)\n",
    "    # print(\"DeltaE: \",delta_e)\n",
    "    return delta_e   "
   ]
  },
  {
   "cell_type": "markdown",
   "metadata": {},
   "source": [
    "## Open the image file"
   ]
  },
  {
   "cell_type": "markdown",
   "metadata": {},
   "source": [
    "Open the image file and convert it to LAB space"
   ]
  },
  {
   "cell_type": "code",
   "execution_count": null,
   "metadata": {},
   "outputs": [],
   "source": [
    "img=io.imread(\"astronaut-jellyfish.jpg\")\n",
    "isrgba=False\n",
    "img2=img.copy()\n",
    "if(img[0][0].size==4):\n",
    "    isrgba=True\n",
    "    img=skimage.color.rgba2rgb(img)\n",
    "og_img_lab=rgb2lab(img)"
   ]
  },
  {
   "cell_type": "markdown",
   "metadata": {},
   "source": [
    "## Themify"
   ]
  },
  {
   "cell_type": "markdown",
   "metadata": {},
   "source": [
    "for every pixel find the minimum distance between the pixel and the colors in the palette in LAB colorspace. Choose the palette color which corresponds to the minimum distance."
   ]
  },
  {
   "cell_type": "markdown",
   "metadata": {},
   "source": [
    "Store the `pixel_color->palette_color pair` in a hash map to prevent redundant recalculation."
   ]
  },
  {
   "cell_type": "code",
   "execution_count": null,
   "metadata": {},
   "outputs": [],
   "source": [
    "pix_theme_map={}\n",
    "def themify_img_v2(og_img,img,start_row,end_row,start_col,end_col):\n",
    "    for i in range(start_row,min(end_row,img.shape[0])):\n",
    "        for j in range(start_col,min(end_col,img.shape[1])):\n",
    "            key=np.array2string(og_img[i][j],separator=',')\n",
    "            if key in pix_theme_map:\n",
    "                img[i][j]=pix_theme_map[key]\n",
    "                continue\n",
    "            # METHOD-1: \n",
    "            # target=pallette[0]\n",
    "            # diff=100000\n",
    "            # for p in pallette:\n",
    "            #     temp=color_diff(p, og_img[i][j])\n",
    "            #     if temp < diff:\n",
    "            #         diff=temp\n",
    "            #         target=p\n",
    "            \n",
    "            # print(lab2rgb(target))\n",
    "            # col=lab2rgb(target);\n",
    "            # col[0]*=255;col[1]*=255;col[2]*=255;\n",
    "            # img[i][j]=[*col,img[i][j][3]]\n",
    "            # pix_theme_map[key]=[*col,img[i][j][3]]\n",
    "            \n",
    "            # METHOD-2:\n",
    "            target=0;\n",
    "            diff=color_diff(pallette[0], og_img[i][j])\n",
    "            for k in range(1,len(pallette)):\n",
    "                temp=color_diff(pallette[k], og_img[i][j])\n",
    "                if temp < diff:\n",
    "                    diff=temp\n",
    "                    target=k\n",
    "            if isrgba:\n",
    "                img[i][j]=[*pallette_rgb[target],img[i][j][3]]\n",
    "                pix_theme_map[key]=[*pallette_rgb[target],img[i][j][3]]\n",
    "            else:\n",
    "                img[i][j]=pallette_rgb[target]\n",
    "                pix_theme_map[key]=pallette_rgb[target]\n",
    "            "
   ]
  },
  {
   "cell_type": "markdown",
   "metadata": {},
   "source": [
    "## Multithreading"
   ]
  },
  {
   "cell_type": "markdown",
   "metadata": {},
   "source": [
    "Use multithreading to reduce time taken. With 40 threads it takes around 10 mins for large images."
   ]
  },
  {
   "cell_type": "code",
   "execution_count": null,
   "metadata": {},
   "outputs": [],
   "source": [
    "MAX_THREADS=40\n",
    "step=ceil(img.shape[0]/MAX_THREADS)\n",
    "print(step)\n",
    "threads=[]\n",
    "for row in range(step,img.shape[0]+step,step):\n",
    "    args=(og_img_lab,img2, row-step,row+1,0,img.shape[1])\n",
    "    t=threading.Thread(target=themify_img_v2,args=args)\n",
    "    t.daemon = True\n",
    "    t.start()\n",
    "    threads.append(t)\n",
    "print(\"finished threads\")\n",
    "for t in threads:\n",
    "    t.join(timeout=60)\n"
   ]
  },
  {
   "cell_type": "markdown",
   "metadata": {},
   "source": [
    "### Save the image"
   ]
  },
  {
   "cell_type": "code",
   "execution_count": null,
   "metadata": {},
   "outputs": [],
   "source": [
    "io.imsave(\"temp.png\",img2)\n"
   ]
  },
  {
   "cell_type": "code",
   "execution_count": null,
   "metadata": {},
   "outputs": [],
   "source": [
    "# img3=skimage.filters.gaussian(img2,sigma=14,mode=\"reflect\")\n",
    "# io.imsave(\"blur-temp.png\",img3)"
   ]
  }
 ],
 "metadata": {
  "kernelspec": {
   "display_name": "Python 3.10.5 ('.venv': pipenv)",
   "language": "python",
   "name": "python3"
  },
  "language_info": {
   "codemirror_mode": {
    "name": "ipython",
    "version": 3
   },
   "file_extension": ".py",
   "mimetype": "text/x-python",
   "name": "python",
   "nbconvert_exporter": "python",
   "pygments_lexer": "ipython3",
   "version": "3.10.5"
  },
  "orig_nbformat": 4,
  "vscode": {
   "interpreter": {
    "hash": "0566e7bb4dba2395e0bb7ff4f6f4cc2f309caaf58ebe191f4c969f79ad9913b2"
   }
  }
 },
 "nbformat": 4,
 "nbformat_minor": 2
}
